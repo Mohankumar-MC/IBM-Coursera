{
 "cells": [
  {
   "cell_type": "markdown",
   "id": "55104e09",
   "metadata": {},
   "source": [
    "<H1> Data Science Tools and Ecosystem </H1>"
   ]
  },
  {
   "cell_type": "markdown",
   "id": "1d14be5c",
   "metadata": {},
   "source": [
    "In this notebook, Data Science Tools and Ecosystem are summarized."
   ]
  },
  {
   "cell_type": "markdown",
   "id": "5646c3ca",
   "metadata": {},
   "source": [
    "Some of the popular languages that Data Scientists use are:\n",
    "   <ol>\n",
    "    <li>python</li>\n",
    "    <li>R</li>\n",
    "    <li>Julia</li>\n",
    "    </ol>"
   ]
  },
  {
   "cell_type": "markdown",
   "id": "819a8b97",
   "metadata": {},
   "source": [
    "Some of the commonly used libraries used by Data Scientists include:\n",
    "   <ol>\n",
    "    <li>numPy</li>\n",
    "    <li>pandas</li>\n",
    "    <li>matplotlib</li>\n",
    "    </ol>"
   ]
  },
  {
   "cell_type": "markdown",
   "id": "d4de08b2",
   "metadata": {},
   "source": [
    "<table>\n",
    "    <tr>\n",
    "        <th>Data Science Tools</th>\n",
    "    </tr>\n",
    "    <tr>\n",
    "        <th>Jupyter Notebook</th>\n",
    "    </tr>\n",
    "    <tr>\n",
    "        <th>GitHub</th>\n",
    "    </tr>\n",
    "    <tr>\n",
    "        <th>R Studio</th>\n",
    "    </tr>\n",
    "        \n",
    "</table>"
   ]
  },
  {
   "cell_type": "markdown",
   "id": "f3dc920d",
   "metadata": {},
   "source": [
    "<H3>Below are a few examples of evaluating arithmetic expressions in Python</H3>"
   ]
  },
  {
   "cell_type": "code",
   "execution_count": 3,
   "id": "d1e0de32",
   "metadata": {},
   "outputs": [
    {
     "data": {
      "text/plain": [
       "17"
      ]
     },
     "execution_count": 3,
     "metadata": {},
     "output_type": "execute_result"
    }
   ],
   "source": [
    "(3*4)+5\n",
    "#This a simple arithmetic expression to mutiply then add integers"
   ]
  },
  {
   "cell_type": "code",
   "execution_count": 5,
   "id": "d7b6e6ee",
   "metadata": {},
   "outputs": [
    {
     "data": {
      "text/plain": [
       "3.3333333333333335"
      ]
     },
     "execution_count": 5,
     "metadata": {},
     "output_type": "execute_result"
    }
   ],
   "source": [
    "#This will convert 200 minutes to hours by diving by 60\n",
    "200/60"
   ]
  },
  {
   "cell_type": "markdown",
   "id": "5e93cbc4",
   "metadata": {},
   "source": [
    "<b>Objectives:</b>\n",
    "<li>Popular languages that Data Scientists use</li>\n",
    "<li>Commonly used libraries used by Data Scientists </li>\n",
    "<li>Data Science Tools</li>\n",
    "<li>examples of evaluating arithmetic expressions in Python</li>"
   ]
  },
  {
   "cell_type": "markdown",
   "id": "03b6c736",
   "metadata": {},
   "source": [
    "<H2>Author</H2>\n",
    "Mohankumar Markuli Chandrayigowda"
   ]
  },
  {
   "cell_type": "code",
   "execution_count": null,
   "id": "3e7b4ad9",
   "metadata": {},
   "outputs": [],
   "source": []
  }
 ],
 "metadata": {
  "kernelspec": {
   "display_name": "Python 3",
   "language": "python",
   "name": "python3"
  },
  "language_info": {
   "codemirror_mode": {
    "name": "ipython",
    "version": 3
   },
   "file_extension": ".py",
   "mimetype": "text/x-python",
   "name": "python",
   "nbconvert_exporter": "python",
   "pygments_lexer": "ipython3",
   "version": "3.8.8"
  }
 },
 "nbformat": 4,
 "nbformat_minor": 5
}
